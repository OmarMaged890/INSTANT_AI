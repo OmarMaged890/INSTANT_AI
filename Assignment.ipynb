{
  "cells": [
    {
      "cell_type": "markdown",
      "metadata": {
        "id": "ff38aad7"
      },
      "source": [
        "### 1-Write a Python program that takes two numbers as user input and performs addition on them."
      ],
      "id": "ff38aad7"
    },
    {
      "cell_type": "code",
      "execution_count": null,
      "metadata": {
        "id": "91696b79",
        "colab": {
          "base_uri": "https://localhost:8080/"
        },
        "outputId": "39291b16-8b9c-434a-cfb4-b161bc5b7c2f"
      },
      "outputs": [
        {
          "output_type": "stream",
          "name": "stdout",
          "text": [
            "enter first number : 1\n",
            "enter second number : 2\n",
            "sum= 3\n"
          ]
        }
      ],
      "source": [
        "number_1 = int(input(\"enter first number : \"))\n",
        "number_2 = int(input(\"enter second number : \"))\n",
        "sum = number_1 + number_2\n",
        "print(\"sum=\",sum)"
      ],
      "id": "91696b79"
    },
    {
      "cell_type": "markdown",
      "metadata": {
        "id": "360854ff"
      },
      "source": [
        "### 2-Write a Python program that takes an integer as input and checks if it is even or odd. Print \"Even\" if the number is divisible by 2, otherwise print \"Odd\"."
      ],
      "id": "360854ff"
    },
    {
      "cell_type": "code",
      "execution_count": null,
      "metadata": {
        "id": "ee4c35fe",
        "colab": {
          "base_uri": "https://localhost:8080/"
        },
        "outputId": "3d95fbdb-8a94-4ab9-957b-fcc4fe36e58c"
      },
      "outputs": [
        {
          "output_type": "stream",
          "name": "stdout",
          "text": [
            "enter a number : 5\n",
            "odd\n"
          ]
        }
      ],
      "source": [
        "number = int(input(\"enter a number : \"))\n",
        "if number%2==0:\n",
        "    print(\"even\")\n",
        "else:\n",
        "    print(\"odd\")"
      ],
      "id": "ee4c35fe"
    },
    {
      "cell_type": "markdown",
      "metadata": {
        "id": "6ea0354c"
      },
      "source": [
        "### 3-Write a Python program that prints all the even numbers from 1 to 20 using a for loop"
      ],
      "id": "6ea0354c"
    },
    {
      "cell_type": "code",
      "execution_count": null,
      "metadata": {
        "id": "7b7ee5e8",
        "colab": {
          "base_uri": "https://localhost:8080/"
        },
        "outputId": "743e0f37-c06f-4292-e9d2-f3eae618b423"
      },
      "outputs": [
        {
          "output_type": "stream",
          "name": "stdout",
          "text": [
            "2\n",
            "4\n",
            "6\n",
            "8\n",
            "10\n",
            "12\n",
            "14\n",
            "16\n",
            "18\n",
            "20\n"
          ]
        }
      ],
      "source": [
        "x = 0\n",
        "for x in range (20):\n",
        "    x +=1\n",
        "    y=x%2\n",
        "    if y == 0:\n",
        "        print(x)"
      ],
      "id": "7b7ee5e8"
    },
    {
      "cell_type": "markdown",
      "metadata": {
        "id": "2d66bab2"
      },
      "source": [
        "### 4-Write a Python function that takes a string as input and counts the number of vowels (a, e, i, o, u) in the string. The function should return the count"
      ],
      "id": "2d66bab2"
    },
    {
      "cell_type": "code",
      "execution_count": null,
      "metadata": {
        "id": "a37a84fd"
      },
      "outputs": [],
      "source": [
        "def vowels (word):\n",
        "    count = 0\n",
        "    vowel = \"aeiuoAEIUO\"\n",
        "    for i in word:\n",
        "        if i in vowel:\n",
        "            count += 1\n",
        "    return count"
      ],
      "id": "a37a84fd"
    },
    {
      "cell_type": "code",
      "execution_count": null,
      "metadata": {
        "id": "jlOjKXc9TVO1",
        "colab": {
          "base_uri": "https://localhost:8080/"
        },
        "outputId": "b6929330-9edf-4dc4-cd8d-933df3c581c1"
      },
      "outputs": [
        {
          "output_type": "execute_result",
          "data": {
            "text/plain": [
              "3"
            ]
          },
          "metadata": {},
          "execution_count": 5
        }
      ],
      "source": [
        "vowels(\"ABDELRHMAN \")"
      ],
      "id": "jlOjKXc9TVO1"
    },
    {
      "cell_type": "markdown",
      "metadata": {
        "id": "a9a0ea06"
      },
      "source": [
        "### 5-Write a Python program that creates a list of numbers from 1 to 10. Use a loop to iterate over the list and print each number of power 2."
      ],
      "id": "a9a0ea06"
    },
    {
      "cell_type": "code",
      "execution_count": null,
      "metadata": {
        "id": "f0e52d30",
        "colab": {
          "base_uri": "https://localhost:8080/"
        },
        "outputId": "cea9b083-731f-4763-fc02-059918c9409a"
      },
      "outputs": [
        {
          "output_type": "stream",
          "name": "stdout",
          "text": [
            "[1, 2, 3, 4, 5, 6, 7, 8, 9, 10]\n",
            "[1, 4, 9, 16, 25, 36, 49, 64, 81, 100]\n"
          ]
        }
      ],
      "source": [
        "L=[]\n",
        "for i in range(10) :\n",
        "    i+=1\n",
        "    L.append(i)\n",
        "l_power=[ x**2 for x in L ]\n",
        "print(L)\n",
        "print(l_power)"
      ],
      "id": "f0e52d30"
    },
    {
      "cell_type": "markdown",
      "metadata": {
        "id": "ELL1IUB2FWZN"
      },
      "source": [],
      "id": "ELL1IUB2FWZN"
    },
    {
      "cell_type": "markdown",
      "metadata": {
        "id": "430c9df9"
      },
      "source": [
        "### 6-Write a Python program that calculates the average grade for a student based on their scores in different subjects. The program should include the following steps:\n",
        "\n",
        "#### 1-Create variables to store the student's name, subject names, and corresponding scores. Initialize the variables with sample data.\n",
        "\n",
        "#### 2-Prompt the user to enter the student's name and assign it to the name variable.\n",
        "\n",
        "#### 3-Use a loop to prompt the user to enter the subject names and corresponding scores. Store the subject names in a list and the scores in another list.\n",
        "\n",
        "#### 4-After collecting the scores, calculate the average grade by summing up all the scores and dividing by the total number of subjects.\n",
        "\n",
        "#### 5-Check if the average grade is above a 70, print a congratulatory message. Otherwise, print an encouragement message."
      ],
      "id": "430c9df9"
    },
    {
      "cell_type": "code",
      "execution_count": null,
      "metadata": {
        "id": "lU1eqvdiFALC",
        "colab": {
          "base_uri": "https://localhost:8080/",
          "height": 262
        },
        "outputId": "13aeaa8f-5afe-41e8-9bac-e1edf86c243c"
      },
      "outputs": [
        {
          "name": "stdout",
          "output_type": "stream",
          "text": [
            "Enter the student's name: omar\n"
          ]
        },
        {
          "output_type": "error",
          "ename": "TypeError",
          "evalue": "ignored",
          "traceback": [
            "\u001b[0;31m---------------------------------------------------------------------------\u001b[0m",
            "\u001b[0;31mTypeError\u001b[0m                                 Traceback (most recent call last)",
            "\u001b[0;32m<ipython-input-16-359e41b35467>\u001b[0m in \u001b[0;36m<cell line: 12>\u001b[0;34m()\u001b[0m\n\u001b[1;32m     10\u001b[0m     \u001b[0mscores\u001b[0m\u001b[0;34m.\u001b[0m\u001b[0mappend\u001b[0m\u001b[0;34m(\u001b[0m\u001b[0mscore\u001b[0m\u001b[0;34m)\u001b[0m\u001b[0;34m\u001b[0m\u001b[0;34m\u001b[0m\u001b[0m\n\u001b[1;32m     11\u001b[0m \u001b[0mtotal_subjects\u001b[0m \u001b[0;34m=\u001b[0m \u001b[0mlen\u001b[0m\u001b[0;34m(\u001b[0m\u001b[0msubject_names\u001b[0m\u001b[0;34m)\u001b[0m\u001b[0;34m\u001b[0m\u001b[0;34m\u001b[0m\u001b[0m\n\u001b[0;32m---> 12\u001b[0;31m \u001b[0mtotal_scor\u001b[0m \u001b[0;34m=\u001b[0m \u001b[0msum\u001b[0m\u001b[0;34m(\u001b[0m\u001b[0mscores\u001b[0m\u001b[0;34m)\u001b[0m\u001b[0;34m\u001b[0m\u001b[0;34m\u001b[0m\u001b[0m\n\u001b[0m\u001b[1;32m     13\u001b[0m \u001b[0maverage_grade\u001b[0m \u001b[0;34m=\u001b[0m \u001b[0mtotal_scor\u001b[0m \u001b[0;34m/\u001b[0m \u001b[0mtotal_subjects\u001b[0m\u001b[0;34m\u001b[0m\u001b[0;34m\u001b[0m\u001b[0m\n\u001b[1;32m     14\u001b[0m \u001b[0;32mif\u001b[0m \u001b[0maverage_grade\u001b[0m \u001b[0;34m>\u001b[0m \u001b[0;36m70\u001b[0m\u001b[0;34m:\u001b[0m\u001b[0;34m\u001b[0m\u001b[0;34m\u001b[0m\u001b[0m\n",
            "\u001b[0;31mTypeError\u001b[0m: 'int' object is not callable"
          ]
        }
      ],
      "source": [
        "subject_names = [\"Math\", \"Science\", \"English\"]\n",
        "scores = [90, 85, 92]\n",
        "student_name = input(\"Enter the student's name: \")\n",
        "subject_names = []\n",
        "scores = []\n",
        "for i in range(len(subject_names)):\n",
        "    subject = input(\"Enter the name of subject {}: \".format(i+1))\n",
        "    subject_names.append(subject)\n",
        "    score = float(input(\"Enter the score for {}: \".format(subject)))\n",
        "    scores.append(score)\n",
        "total_subjects = len(subject_names)\n",
        "total_scor = sum(scores)\n",
        "average_grade = total_scor / total_subjects\n",
        "if average_grade > 70:\n",
        "    print(\"Congratulations, {}! Your average grade is {}\".format(student_name, average_grade))\n",
        "else:\n",
        "    print(\"Keep it up, {}! Your average grade is {}\".format(student_name, average_grade))"
      ],
      "id": "lU1eqvdiFALC"
    },
    {
      "cell_type": "markdown",
      "metadata": {
        "id": "ae9df360"
      },
      "source": [
        "### 7-Find Common Elements\n",
        "### Write a Python function that takes two lists as input and returns a new list containing the common elements present in both lists."
      ],
      "id": "ae9df360"
    },
    {
      "cell_type": "code",
      "execution_count": null,
      "metadata": {
        "id": "El1aXnSvp0IY",
        "colab": {
          "base_uri": "https://localhost:8080/"
        },
        "outputId": "df768515-3326-4a2a-fc89-4f6cf8399b55"
      },
      "outputs": [
        {
          "name": "stdout",
          "output_type": "stream",
          "text": [
            "Enter number of elements : 5\n",
            "1\n",
            "2\n",
            "3\n",
            "4\n",
            "5\n",
            "Enter number of elements : 5\n",
            "4\n",
            "5\n",
            "6\n",
            "7\n",
            "8\n"
          ]
        },
        {
          "output_type": "execute_result",
          "data": {
            "text/plain": [
              "['4', '5']"
            ]
          },
          "metadata": {},
          "execution_count": 21
        }
      ],
      "source": [
        "lst_1= []\n",
        "x = int(input(\"Enter number of elements : \"))\n",
        "for i in range(0,x ):\n",
        "    n1 = input()\n",
        "    lst_1.append(n1)\n",
        "\n",
        "lst_2 = []\n",
        "y = int(input(\"Enter number of elements : \"))\n",
        "for i in range(0,y ):\n",
        "    n2 = input()\n",
        "    lst_2.append(n2)\n",
        "def common_elements(M,N):\n",
        "    result = []\n",
        "    for i in lst_1:\n",
        "        if i in lst_2:\n",
        "            result.append(i)\n",
        "    return result\n",
        "common_elements(lst_1,lst_2)"
      ],
      "id": "El1aXnSvp0IY"
    },
    {
      "cell_type": "markdown",
      "metadata": {
        "id": "9a2f34cb"
      },
      "source": [
        "### 8-Write a Python function that takes a list of numbers and an element to remove from the list."
      ],
      "id": "9a2f34cb"
    },
    {
      "cell_type": "code",
      "execution_count": null,
      "metadata": {
        "id": "d80aa813"
      },
      "outputs": [],
      "source": [
        "def remove(numbers, element):\n",
        "  result = []\n",
        "  for number in numbers:\n",
        "    if number != element:\n",
        "      result.append(number)\n",
        "  return result"
      ],
      "id": "d80aa813"
    },
    {
      "cell_type": "code",
      "execution_count": null,
      "metadata": {
        "id": "SX5iOjrh2Vde",
        "colab": {
          "base_uri": "https://localhost:8080/"
        },
        "outputId": "832f357a-eeef-4bd1-fe35-fb09f3ecb7d0"
      },
      "outputs": [
        {
          "output_type": "execute_result",
          "data": {
            "text/plain": [
              "[4, 35, 74, 8, 10]"
            ]
          },
          "metadata": {},
          "execution_count": 23
        }
      ],
      "source": [
        "remove([4,35,74,5,8,10],5)"
      ],
      "id": "SX5iOjrh2Vde"
    },
    {
      "cell_type": "markdown",
      "metadata": {
        "id": "f1658f3b"
      },
      "source": [
        "### 9-Given 4 numbers A, B, C and D. Print the last 2 digits from their Multiplication.\n",
        "### Example :\n",
        "### the Multiplication of 4 numbers is 5 * 7 * 2 * 4 = 280 so the answer will be the last 2 digits which are 80."
      ],
      "id": "f1658f3b"
    },
    {
      "cell_type": "code",
      "source": [
        "A = int(input(\"Enter A: \"))\n",
        "B = int(input(\"Enter B: \"))\n",
        "C = int(input(\"Enter C: \"))\n",
        "D = int(input(\"Enter D \"))\n",
        "product = A * B * C * D\n",
        "X = product % 100\n",
        "print(\"Last two digits of the multiplication:\", X)"
      ],
      "metadata": {
        "colab": {
          "base_uri": "https://localhost:8080/"
        },
        "id": "u23WPSs099xG",
        "outputId": "0ea39d3f-11af-4c96-c11d-043895116b4d"
      },
      "id": "u23WPSs099xG",
      "execution_count": null,
      "outputs": [
        {
          "output_type": "stream",
          "name": "stdout",
          "text": [
            "Enter A: 5\n",
            "Enter B: 6\n",
            "Enter C: 7\n",
            "Enter D 8\n",
            "Last two digits of the multiplication: 80\n"
          ]
        }
      ]
    },
    {
      "cell_type": "markdown",
      "metadata": {
        "id": "d7ab15bb"
      },
      "source": [
        "### 10- Given a number X. Determine if the number is prime or not"
      ],
      "id": "d7ab15bb"
    },
    {
      "cell_type": "code",
      "execution_count": null,
      "metadata": {
        "id": "03f6ff0e",
        "colab": {
          "base_uri": "https://localhost:8080/"
        },
        "outputId": "32fbcceb-2956-434d-8d9d-8fbb8c031557"
      },
      "outputs": [
        {
          "output_type": "stream",
          "name": "stdout",
          "text": [
            "enter a number : 7\n",
            "7 is a prime number\n"
          ]
        }
      ],
      "source": [
        "num =int(input(\"enter a number : \"))\n",
        "flag = False\n",
        "if num == 1:\n",
        "    print(num, \"is not a prime number\")\n",
        "elif num > 1:\n",
        "    for i in range(2, num):\n",
        "        if (num % i) == 0:\n",
        "            flag = True\n",
        "            break\n",
        "    if flag:\n",
        "        print(num, \"is not a prime number\")\n",
        "    else:\n",
        "        print(num, \"is a prime number\")"
      ],
      "id": "03f6ff0e"
    },
    {
      "cell_type": "markdown",
      "metadata": {
        "id": "e1d1dcf9"
      },
      "source": [
        "### 11- Given a number N and a list A of N numbers. Determine if the number X exists in array A or not and print its position (0-index)."
      ],
      "id": "e1d1dcf9"
    },
    {
      "cell_type": "code",
      "execution_count": null,
      "metadata": {
        "id": "2b002b0e",
        "colab": {
          "base_uri": "https://localhost:8080/"
        },
        "outputId": "769d4ee8-1e58-445f-d6c9-8e0399a970bc"
      },
      "outputs": [
        {
          "output_type": "stream",
          "name": "stdout",
          "text": [
            "enter number of elments in the list :5\n",
            "1\n",
            "2\n",
            "4\n",
            "3\n",
            "5\n",
            "x= :1\n",
            "the index of x is : 0\n"
          ]
        }
      ],
      "source": [
        "from ast import Index\n",
        "N=int(input(\"enter number of elments in the list :\"))\n",
        "\n",
        "A=[]\n",
        "for i in range(N):\n",
        "    i+=1\n",
        "    y=input()\n",
        "    A.append(y)\n",
        "x=input(\"x= :\")\n",
        "if x in A:\n",
        "    z=A.index(x)\n",
        "    print(\"the index of x is :\",z)\n",
        "else:\n",
        "  print (\"x isn't in A \")"
      ],
      "id": "2b002b0e"
    },
    {
      "cell_type": "markdown",
      "metadata": {
        "id": "f2ec854b"
      },
      "source": [
        "### 12- Given a number N and a list A of N numbers. Determine if the array is lucky or not.\n",
        "\n",
        "#### Note: the array is lucky if the frequency (number of occurrence) of the minimum element is odd."
      ],
      "id": "f2ec854b"
    },
    {
      "cell_type": "code",
      "execution_count": null,
      "metadata": {
        "colab": {
          "base_uri": "https://localhost:8080/"
        },
        "id": "0c4f7f4b",
        "outputId": "941cab6d-f47b-4fbe-bc4a-04506a005b9f"
      },
      "outputs": [
        {
          "output_type": "stream",
          "name": "stdout",
          "text": [
            "Enter the number of elements: 5\n",
            "Enter a number: 1\n",
            "Enter a number: 2\n",
            "Enter a number: 3\n",
            "Enter a number: 4\n",
            "Enter a number: 5\n",
            "The array is lucky\n"
          ]
        }
      ],
      "source": [
        "N = int(input(\"Enter the number of elements: \"))\n",
        "A = []\n",
        "for i in range(N):\n",
        "    num = int(input(\"Enter a number: \"))\n",
        "    A.append(num)\n",
        "min_num = min(A)\n",
        "frequency = A.count(min_num)\n",
        "if frequency % 2 != 0:\n",
        "    print(\"The array is lucky\")\n",
        "else:\n",
        "    print(\"The array is not lucky\")"
      ],
      "id": "0c4f7f4b"
    },
    {
      "cell_type": "markdown",
      "metadata": {
        "id": "e1ce1ae5"
      },
      "source": [
        "### 13-Given a number N and a list A of N numbers. Print the array after doing the following operations:\n",
        "\n",
        "#### Find minimum number in these numbers.\n",
        "#### Find maximum number in these numbers.\n",
        "##### Swap minimum number with maximum number."
      ],
      "id": "e1ce1ae5"
    },
    {
      "cell_type": "code",
      "execution_count": null,
      "metadata": {
        "colab": {
          "base_uri": "https://localhost:8080/"
        },
        "id": "e0d6e639",
        "outputId": "d6eae0ef-1d72-4a35-d80a-6db326ad8671"
      },
      "outputs": [
        {
          "output_type": "stream",
          "name": "stdout",
          "text": [
            "Enter the number of elements: 5\n",
            "Enter a number: 1\n",
            "Enter a number: 2\n",
            "Enter a number: 3\n",
            "Enter a number: 4\n",
            "Enter a number: 5\n",
            "Array after swapping minimum and maximum numbers: [5, 2, 3, 4, 1]\n"
          ]
        }
      ],
      "source": [
        "N = int(input(\"Enter the number of elements: \"))\n",
        "A = []\n",
        "for i in range(N):\n",
        "    num = int(input(\"Enter a number: \"))\n",
        "    A.append(num)\n",
        "min_num = min(A)\n",
        "max_num = max(A)\n",
        "min_index = A.index(min_num)\n",
        "max_index = A.index(max_num)\n",
        "A[min_index], A[max_index] = A[max_index], A[min_index]\n",
        "print(\"Array after swapping minimum and maximum numbers:\", A)"
      ],
      "id": "e0d6e639"
    },
    {
      "cell_type": "markdown",
      "metadata": {
        "id": "9eb8e9c5"
      },
      "source": [
        "### 14-Given a number N and an array A of N numbers. Print the lowest number and its position.\n",
        "\n",
        "### Note: if there are more than one answer print first one's position."
      ],
      "id": "9eb8e9c5"
    },
    {
      "cell_type": "code",
      "execution_count": null,
      "metadata": {
        "colab": {
          "base_uri": "https://localhost:8080/"
        },
        "id": "018e01c8",
        "outputId": "5de04195-6fc9-4430-9581-55ceb1a8146d"
      },
      "outputs": [
        {
          "output_type": "stream",
          "name": "stdout",
          "text": [
            "enter number of elments in the list :5\n",
            "1\n",
            "2\n",
            "3\n",
            "4\n",
            "5\n",
            "minimum number is :  1\n",
            "index of minimum number is :  0\n"
          ]
        }
      ],
      "source": [
        "N=int(input(\"enter number of elments in the list :\"))\n",
        "A=[]\n",
        "for i in range(N):\n",
        "    i+=1\n",
        "    y=input()\n",
        "    A.append(y)\n",
        "    minimum=min(A)\n",
        "print(\"minimum number is : \",minimum)\n",
        "x=A.index(minimum)\n",
        "print(\"index of minimum number is : \",x)"
      ],
      "id": "018e01c8"
    },
    {
      "cell_type": "markdown",
      "metadata": {
        "id": "f35d3427"
      },
      "source": [
        "### 15-Given a number N and an array A of N numbers. Print the numbers after sorting them"
      ],
      "id": "f35d3427"
    },
    {
      "cell_type": "code",
      "execution_count": null,
      "metadata": {
        "colab": {
          "base_uri": "https://localhost:8080/"
        },
        "id": "38100d74",
        "outputId": "c57e02f8-dd6d-4ee9-9bd8-ac3c7bd5be49"
      },
      "outputs": [
        {
          "name": "stdout",
          "output_type": "stream",
          "text": [
            "enter number of elments in the list :5\n",
            "1\n",
            "5\n",
            "9\n",
            "7\n",
            "5\n"
          ]
        },
        {
          "data": {
            "text/plain": [
              "['1', '5', '5', '7', '9']"
            ]
          },
          "execution_count": 5,
          "metadata": {},
          "output_type": "execute_result"
        }
      ],
      "source": [
        "N=int(input(\"enter number of elments in the list :\"))\n",
        "A=[]\n",
        "for i in range(N):\n",
        "    i+=1\n",
        "    y=input()\n",
        "    A.append(y)\n",
        "A.sort()\n",
        "A"
      ],
      "id": "38100d74"
    },
    {
      "cell_type": "markdown",
      "metadata": {
        "id": "a172f354"
      },
      "source": [
        "### 16- Write a Python program to remove spaces from a given string"
      ],
      "id": "a172f354"
    },
    {
      "cell_type": "code",
      "execution_count": null,
      "metadata": {
        "colab": {
          "base_uri": "https://localhost:8080/",
          "height": 36
        },
        "id": "36d3569d",
        "outputId": "d1dc6840-ef63-4355-852b-cba246043a1f"
      },
      "outputs": [
        {
          "data": {
            "application/vnd.google.colaboratory.intrinsic+json": {
              "type": "string"
            },
            "text/plain": [
              "'omar'"
            ]
          },
          "execution_count": 16,
          "metadata": {},
          "output_type": "execute_result"
        }
      ],
      "source": [
        "def remove(string):\n",
        "    return string.replace(\" \", \"\")\n",
        "remove(\"o m  a r\")"
      ],
      "id": "36d3569d"
    },
    {
      "cell_type": "markdown",
      "metadata": {
        "id": "a5470d49"
      },
      "source": [
        "### 17-write a Python program to swap first and last element of any list."
      ],
      "id": "a5470d49"
    },
    {
      "cell_type": "code",
      "execution_count": null,
      "metadata": {
        "colab": {
          "base_uri": "https://localhost:8080/"
        },
        "id": "9d73887b",
        "outputId": "c2ff7874-c81b-4547-c134-5e43762fc627"
      },
      "outputs": [
        {
          "name": "stdout",
          "output_type": "stream",
          "text": [
            "enter number of elments in the list :5\n",
            "1\n",
            "2\n",
            "3\n",
            "4\n",
            "5\n",
            "5\n",
            "1\n"
          ]
        }
      ],
      "source": [
        "N=int(input(\"enter number of elments in the list :\"))\n",
        "A=[]\n",
        "for i in range(N):\n",
        "    i+=1\n",
        "    y=input()\n",
        "    A.append(y)\n",
        "A[0],A[N-1]=A[N-1],A[0]\n",
        "print(A[0])\n",
        "print(A[N-1])"
      ],
      "id": "9d73887b"
    },
    {
      "cell_type": "markdown",
      "metadata": {
        "id": "1ae6cf8e"
      },
      "source": [
        "### 18- Write a Python program to add member(s) to a set."
      ],
      "id": "1ae6cf8e"
    },
    {
      "cell_type": "code",
      "execution_count": null,
      "metadata": {
        "colab": {
          "base_uri": "https://localhost:8080/"
        },
        "id": "341c3d16",
        "outputId": "2212c078-65a2-4b36-846c-b6c1a238602b"
      },
      "outputs": [
        {
          "name": "stdout",
          "output_type": "stream",
          "text": [
            "{'omar', 'maged'}\n"
          ]
        }
      ],
      "source": [
        "name_set = set()\n",
        "name_set.add(\"omar\")\n",
        "name_set.update([\"maged\"])\n",
        "print(name_set)"
      ],
      "id": "341c3d16"
    },
    {
      "cell_type": "markdown",
      "metadata": {
        "id": "db811fec"
      },
      "source": [
        "### 19-Write a Python program to remove an item from a set if it is present in the set"
      ],
      "id": "db811fec"
    },
    {
      "cell_type": "code",
      "execution_count": null,
      "metadata": {
        "colab": {
          "base_uri": "https://localhost:8080/"
        },
        "id": "daa40ca6",
        "outputId": "9d3fe255-4383-418d-df02-a9fc53bcdca3"
      },
      "outputs": [
        {
          "name": "stdout",
          "output_type": "stream",
          "text": [
            "{0, 1, 2, 3, 4}\n"
          ]
        }
      ],
      "source": [
        "num_set = set([0, 1, 2, 3, 4, 5])\n",
        "num_set.discard(5)\n",
        "print(num_set)"
      ],
      "id": "daa40ca6"
    },
    {
      "cell_type": "markdown",
      "metadata": {
        "id": "240c9bde"
      },
      "source": [
        "### 20-Write a Python program to get the maximum and minimum values of a dictionary values"
      ],
      "id": "240c9bde"
    },
    {
      "cell_type": "code",
      "execution_count": null,
      "metadata": {
        "colab": {
          "base_uri": "https://localhost:8080/"
        },
        "id": "4b767f24",
        "outputId": "23c463ee-99d2-45c6-82c2-b50f452810da"
      },
      "outputs": [
        {
          "name": "stdout",
          "output_type": "stream",
          "text": [
            "Maximum = 5000\n",
            "Minimum = 50\n"
          ]
        }
      ],
      "source": [
        "dct = {'A':500, 'B':5000, 'C': 50}\n",
        "max = max(dct.keys(), key=(lambda X: dct[X]))\n",
        "min = min(dct.keys(), key=(lambda X: dct[X]))\n",
        "print(\"Maximum =\",dct[max])\n",
        "print(\"Minimum =\",dct[min])"
      ],
      "id": "4b767f24"
    },
    {
      "cell_type": "markdown",
      "metadata": {
        "id": "f1d3a246"
      },
      "source": [
        "### 21-Write a Python program to drop empty items from a given dictionary.Original Dictionary:{'c1': 'Red', 'c2': 'Green', 'c3': None}New Dictionary after dropping empty items:{'c1': 'Red', 'c2': 'Green'}"
      ],
      "id": "f1d3a246"
    },
    {
      "cell_type": "code",
      "execution_count": null,
      "metadata": {
        "colab": {
          "base_uri": "https://localhost:8080/"
        },
        "id": "7c2a5807",
        "outputId": "cc90d87e-ba1e-4ec0-91b2-12c1a90a38ea"
      },
      "outputs": [
        {
          "name": "stdout",
          "output_type": "stream",
          "text": [
            "Original Dictionary:\n",
            "{'c1': 'Red', 'c2': 'Green', 'c3': None}\n",
            "New Dictionary after dropping empty items:\n",
            "{'c1': 'Red', 'c2': 'Green'}\n"
          ]
        }
      ],
      "source": [
        "dict1 = {'c1': 'Red', 'c2': 'Green', 'c3':None}\n",
        "print(\"Original Dictionary:\")\n",
        "print(dict1)\n",
        "print(\"New Dictionary after dropping empty items:\")\n",
        "dict1 = {key:value for (key, value) in dict1.items() if value is not None}\n",
        "print(dict1)"
      ],
      "id": "7c2a5807"
    }
  ],
  "metadata": {
    "colab": {
      "provenance": []
    },
    "kernelspec": {
      "display_name": "Python 3 (ipykernel)",
      "language": "python",
      "name": "python3"
    },
    "language_info": {
      "codemirror_mode": {
        "name": "ipython",
        "version": 3
      },
      "file_extension": ".py",
      "mimetype": "text/x-python",
      "name": "python",
      "nbconvert_exporter": "python",
      "pygments_lexer": "ipython3",
      "version": "3.9.12"
    }
  },
  "nbformat": 4,
  "nbformat_minor": 5
}